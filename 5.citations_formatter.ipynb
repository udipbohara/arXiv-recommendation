{
 "cells": [
  {
   "cell_type": "code",
   "execution_count": 1,
   "metadata": {},
   "outputs": [],
   "source": [
    "from pathlib import Path\n",
    "import pandas as pd\n"
   ]
  },
  {
   "cell_type": "code",
   "execution_count": 6,
   "metadata": {},
   "outputs": [],
   "source": [
    "#batches were ran in colab as well as local machine for time constraints\n",
    "# as the api limit was only ~150 for 5 minutes. \n",
    "# However, there might be overlap of results so it needs to be filtered/processed\n",
    "\n",
    "data_dir1 = Path('citations_batchrun_1/')\n",
    "colab_dfs = pd.concat(\n",
    "    pd.read_csv(csv_file,dtype=object)\n",
    "    for csv_file in data_dir1.glob('*.csv')\n",
    ")\n",
    "\n",
    "\n",
    "data_dir2 = Path('citations_batchrun2/')\n",
    "local_dfs = pd.concat(\n",
    "    pd.read_csv(csv_file,dtype=object)\n",
    "    for csv_file in data_dir2.glob('*.csv')\n",
    ")\n",
    "\n",
    "\n",
    "#full_df.to_csv('similarities.csv', index=True)"
   ]
  },
  {
   "cell_type": "code",
   "execution_count": 7,
   "metadata": {},
   "outputs": [],
   "source": [
    "df = local_dfs.append(colab_dfs, ignore_index=True)"
   ]
  },
  {
   "cell_type": "code",
   "execution_count": 8,
   "metadata": {},
   "outputs": [
    {
     "data": {
      "text/plain": [
       "429673"
      ]
     },
     "execution_count": 8,
     "metadata": {},
     "output_type": "execute_result"
    }
   ],
   "source": [
    "len(df)"
   ]
  },
  {
   "cell_type": "code",
   "execution_count": 9,
   "metadata": {},
   "outputs": [],
   "source": [
    "df.columns = ['Target', 'Source']"
   ]
  },
  {
   "cell_type": "code",
   "execution_count": 10,
   "metadata": {},
   "outputs": [
    {
     "data": {
      "text/plain": [
       "429673"
      ]
     },
     "execution_count": 10,
     "metadata": {},
     "output_type": "execute_result"
    }
   ],
   "source": [
    "len(df)"
   ]
  },
  {
   "cell_type": "code",
   "execution_count": 11,
   "metadata": {},
   "outputs": [],
   "source": [
    "edges = df.drop_duplicates(['Target', 'Source'])"
   ]
  },
  {
   "cell_type": "code",
   "execution_count": 12,
   "metadata": {},
   "outputs": [
    {
     "data": {
      "text/plain": [
       "387535"
      ]
     },
     "execution_count": 12,
     "metadata": {},
     "output_type": "execute_result"
    }
   ],
   "source": [
    "len(edges)"
   ]
  },
  {
   "cell_type": "code",
   "execution_count": 13,
   "metadata": {},
   "outputs": [],
   "source": [
    "selected_papers = pd.read_csv('selected_papers.csv')"
   ]
  },
  {
   "cell_type": "code",
   "execution_count": 14,
   "metadata": {},
   "outputs": [
    {
     "data": {
      "text/plain": [
       "61425"
      ]
     },
     "execution_count": 14,
     "metadata": {},
     "output_type": "execute_result"
    }
   ],
   "source": [
    "len(selected_papers)"
   ]
  },
  {
   "cell_type": "code",
   "execution_count": 15,
   "metadata": {},
   "outputs": [],
   "source": [
    "reference = list(set(edges.Source.astype(str).to_list() + edges.Target.astype(str).to_list()) ) "
   ]
  },
  {
   "cell_type": "code",
   "execution_count": 16,
   "metadata": {},
   "outputs": [
    {
     "data": {
      "text/plain": [
       "48767"
      ]
     },
     "execution_count": 16,
     "metadata": {},
     "output_type": "execute_result"
    }
   ],
   "source": [
    "len(reference)"
   ]
  },
  {
   "cell_type": "code",
   "execution_count": 20,
   "metadata": {},
   "outputs": [],
   "source": [
    "nodes = selected_papers[selected_papers['id'].isin(reference)].drop('abstract', axis=1).rename(columns={'id': 'Id', 'title':'Title'})\n",
    "nodes['Label'] = nodes['Id']"
   ]
  },
  {
   "cell_type": "code",
   "execution_count": 21,
   "metadata": {},
   "outputs": [
    {
     "data": {
      "text/plain": [
       "Id       object\n",
       "Title    object\n",
       "Label    object\n",
       "dtype: object"
      ]
     },
     "execution_count": 21,
     "metadata": {},
     "output_type": "execute_result"
    }
   ],
   "source": [
    "nodes.dtypes"
   ]
  },
  {
   "cell_type": "code",
   "execution_count": 85,
   "metadata": {},
   "outputs": [],
   "source": [
    "nodes = selected_papers[selected_papers['id'].isin(reference)].drop('abstract', axis=1).rename(columns={'id': 'Id', 'title':'Title'})\n",
    "nodes['Label'] = nodes['Id']"
   ]
  },
  {
   "cell_type": "code",
   "execution_count": 86,
   "metadata": {},
   "outputs": [],
   "source": [
    "edges.to_csv('gephi/citations_network_edges.csv', index=False)\n"
   ]
  },
  {
   "cell_type": "code",
   "execution_count": 23,
   "metadata": {},
   "outputs": [
    {
     "data": {
      "text/plain": [
       "387535"
      ]
     },
     "execution_count": 23,
     "metadata": {},
     "output_type": "execute_result"
    }
   ],
   "source": [
    "len(edges)"
   ]
  },
  {
   "cell_type": "code",
   "execution_count": 24,
   "metadata": {},
   "outputs": [
    {
     "data": {
      "text/plain": [
       "48767"
      ]
     },
     "execution_count": 24,
     "metadata": {},
     "output_type": "execute_result"
    }
   ],
   "source": [
    "len(nodes)"
   ]
  },
  {
   "cell_type": "code",
   "execution_count": 28,
   "metadata": {},
   "outputs": [],
   "source": [
    "extracted_topics = pd.read_csv('gephi/extracted_topics.csv')"
   ]
  },
  {
   "cell_type": "code",
   "execution_count": 32,
   "metadata": {},
   "outputs": [
    {
     "data": {
      "text/html": [
       "<div>\n",
       "<style scoped>\n",
       "    .dataframe tbody tr th:only-of-type {\n",
       "        vertical-align: middle;\n",
       "    }\n",
       "\n",
       "    .dataframe tbody tr th {\n",
       "        vertical-align: top;\n",
       "    }\n",
       "\n",
       "    .dataframe thead th {\n",
       "        text-align: right;\n",
       "    }\n",
       "</style>\n",
       "<table border=\"1\" class=\"dataframe\">\n",
       "  <thead>\n",
       "    <tr style=\"text-align: right;\">\n",
       "      <th></th>\n",
       "      <th>id</th>\n",
       "      <th>Dominant_Topic</th>\n",
       "      <th>title</th>\n",
       "    </tr>\n",
       "  </thead>\n",
       "  <tbody>\n",
       "    <tr>\n",
       "      <th>0</th>\n",
       "      <td>0709.1667</td>\n",
       "      <td>20</td>\n",
       "      <td>Solving Constraint Satisfaction Problems throu...</td>\n",
       "    </tr>\n",
       "    <tr>\n",
       "      <th>1</th>\n",
       "      <td>0804.4451</td>\n",
       "      <td>54</td>\n",
       "      <td>Dependence Structure Estimation via Copula</td>\n",
       "    </tr>\n",
       "    <tr>\n",
       "      <th>2</th>\n",
       "      <td>0811.2551</td>\n",
       "      <td>37</td>\n",
       "      <td>Modeling Cultural Dynamics</td>\n",
       "    </tr>\n",
       "    <tr>\n",
       "      <th>3</th>\n",
       "      <td>1001.1401</td>\n",
       "      <td>26</td>\n",
       "      <td>Incorporating characteristics of human creativ...</td>\n",
       "    </tr>\n",
       "    <tr>\n",
       "      <th>4</th>\n",
       "      <td>1005.1518</td>\n",
       "      <td>26</td>\n",
       "      <td>Recognizability of Individual Creative Style W...</td>\n",
       "    </tr>\n",
       "    <tr>\n",
       "      <th>5</th>\n",
       "      <td>1105.4042</td>\n",
       "      <td>30</td>\n",
       "      <td>Adaptive and optimal online linear regression ...</td>\n",
       "    </tr>\n",
       "    <tr>\n",
       "      <th>6</th>\n",
       "      <td>1106.0665</td>\n",
       "      <td>24</td>\n",
       "      <td>Infinite-Horizon Policy-Gradient Estimation</td>\n",
       "    </tr>\n",
       "    <tr>\n",
       "      <th>7</th>\n",
       "      <td>1106.0666</td>\n",
       "      <td>33</td>\n",
       "      <td>Experiments with Infinite-Horizon, Policy-Grad...</td>\n",
       "    </tr>\n",
       "    <tr>\n",
       "      <th>8</th>\n",
       "      <td>1106.3600</td>\n",
       "      <td>26</td>\n",
       "      <td>How Insight Emerges in a Distributed, Content-...</td>\n",
       "    </tr>\n",
       "    <tr>\n",
       "      <th>9</th>\n",
       "      <td>1107.2699</td>\n",
       "      <td>53</td>\n",
       "      <td>Linear Latent Force Models using Gaussian Proc...</td>\n",
       "    </tr>\n",
       "  </tbody>\n",
       "</table>\n",
       "</div>"
      ],
      "text/plain": [
       "          id  Dominant_Topic  \\\n",
       "0  0709.1667              20   \n",
       "1  0804.4451              54   \n",
       "2  0811.2551              37   \n",
       "3  1001.1401              26   \n",
       "4  1005.1518              26   \n",
       "5  1105.4042              30   \n",
       "6  1106.0665              24   \n",
       "7  1106.0666              33   \n",
       "8  1106.3600              26   \n",
       "9  1107.2699              53   \n",
       "\n",
       "                                               title  \n",
       "0  Solving Constraint Satisfaction Problems throu...  \n",
       "1         Dependence Structure Estimation via Copula  \n",
       "2                         Modeling Cultural Dynamics  \n",
       "3  Incorporating characteristics of human creativ...  \n",
       "4  Recognizability of Individual Creative Style W...  \n",
       "5  Adaptive and optimal online linear regression ...  \n",
       "6        Infinite-Horizon Policy-Gradient Estimation  \n",
       "7  Experiments with Infinite-Horizon, Policy-Grad...  \n",
       "8  How Insight Emerges in a Distributed, Content-...  \n",
       "9  Linear Latent Force Models using Gaussian Proc...  "
      ]
     },
     "execution_count": 32,
     "metadata": {},
     "output_type": "execute_result"
    }
   ],
   "source": [
    "extracted_topics.head(10)"
   ]
  },
  {
   "cell_type": "code",
   "execution_count": 30,
   "metadata": {},
   "outputs": [
    {
     "data": {
      "text/plain": [
       "61425"
      ]
     },
     "execution_count": 30,
     "metadata": {},
     "output_type": "execute_result"
    }
   ],
   "source": [
    "len(extracted_topics)"
   ]
  },
  {
   "cell_type": "code",
   "execution_count": 34,
   "metadata": {},
   "outputs": [
    {
     "data": {
      "text/plain": [
       "48767"
      ]
     },
     "execution_count": 34,
     "metadata": {},
     "output_type": "execute_result"
    }
   ],
   "source": [
    "len(nodes)"
   ]
  },
  {
   "cell_type": "code",
   "execution_count": 37,
   "metadata": {},
   "outputs": [],
   "source": [
    "nodes = nodes.merge(extracted_topics, left_on='Id', right_on='id').drop(['title','id'], axis=1)"
   ]
  },
  {
   "cell_type": "code",
   "execution_count": 38,
   "metadata": {},
   "outputs": [],
   "source": [
    "nodes.to_csv('gephi/citations_network_nodes.csv', index=False)"
   ]
  },
  {
   "cell_type": "code",
   "execution_count": null,
   "metadata": {},
   "outputs": [],
   "source": []
  }
 ],
 "metadata": {
  "kernelspec": {
   "display_name": "Python 3.7.2 64-bit",
   "language": "python",
   "name": "python37264bit726ecccd807d402aa3c12d5f22ba4519"
  },
  "language_info": {
   "codemirror_mode": {
    "name": "ipython",
    "version": 3
   },
   "file_extension": ".py",
   "mimetype": "text/x-python",
   "name": "python",
   "nbconvert_exporter": "python",
   "pygments_lexer": "ipython3",
   "version": "3.7.2"
  }
 },
 "nbformat": 4,
 "nbformat_minor": 4
}
